{
 "cells": [
  {
   "cell_type": "code",
   "execution_count": 2,
   "metadata": {},
   "outputs": [
    {
     "name": "stderr",
     "output_type": "stream",
     "text": [
      "C:\\Users\\Liwei\\Anaconda3\\lib\\site-packages\\sklearn\\cross_validation.py:41: DeprecationWarning: This module was deprecated in version 0.18 in favor of the model_selection module into which all the refactored classes and functions are moved. Also note that the interface of the new CV iterators are different from that of this module. This module will be removed in 0.20.\n",
      "  \"This module will be removed in 0.20.\", DeprecationWarning)\n",
      "C:\\Users\\Liwei\\Anaconda3\\lib\\site-packages\\sklearn\\grid_search.py:42: DeprecationWarning: This module was deprecated in version 0.18 in favor of the model_selection module into which all the refactored classes and functions are moved. This module will be removed in 0.20.\n",
      "  DeprecationWarning)\n"
     ]
    }
   ],
   "source": [
    "import sklearn\n",
    "from sklearn.svm import SVC\n",
    "from sklearn import grid_search"
   ]
  },
  {
   "cell_type": "code",
   "execution_count": 13,
   "metadata": {
    "collapsed": true
   },
   "outputs": [],
   "source": [
    "# Sample sentences\n",
    "\n",
    "X_train_2 = ['he lost the game',\n",
    "'the man tries to win',\n",
    "'he tries so hard with no luck',\n",
    "'out of all his tries this one works',\n",
    "'the tries he did work',\n",
    "'the person tries to score',\n",
    "'it took two tries to get it to work',\n",
    "'the idea did not work',\n",
    "'the game is not working']"
   ]
  },
  {
   "cell_type": "code",
   "execution_count": 14,
   "metadata": {
    "collapsed": true
   },
   "outputs": [],
   "source": [
    "# Labeled images\n",
    "\n",
    "\"\"\"\n",
    "0 for positive\n",
    "1 for negative\n",
    "\n",
    "\"\"\"\n",
    "\n",
    "y_train_v2 = [1,0,1,0,0,0,0,1,1]"
   ]
  },
  {
   "cell_type": "code",
   "execution_count": 15,
   "metadata": {
    "collapsed": true
   },
   "outputs": [],
   "source": [
    "def convert_v2(X_train):\n",
    "    \"\"\"Method that creates a vector based on a sentence\"\"\"\n",
    "    X_train_mod = []\n",
    "    for sentence in X_train:\n",
    "        # split sentence into lists\n",
    "        sent_list = []\n",
    "        sent_list = sentence.split(' ')\n",
    "        X_train_mod.append(sent_list)\n",
    "        \n",
    "\n",
    "        \n",
    "    X_train_fin = []\n",
    "    for sentence in X_train_mod:\n",
    "        print(sentence)\n",
    "        temp = [0]*4\n",
    "        for item in sentence:\n",
    "            if item == 'not':\n",
    "                temp[0] = 1\n",
    "            elif item == 'no':\n",
    "                temp[1] = 1\n",
    "            elif item == 'win':\n",
    "                temp[2] = 1\n",
    "            elif item == 'tries':\n",
    "                temp[3] = 1\n",
    "        print(temp)\n",
    "        X_train_fin.append(temp)\n",
    "    \n",
    "    return X_train_fin"
   ]
  },
  {
   "cell_type": "code",
   "execution_count": 16,
   "metadata": {},
   "outputs": [
    {
     "name": "stdout",
     "output_type": "stream",
     "text": [
      "['he', 'lost', 'the', 'game']\n",
      "[0, 0, 0, 0]\n",
      "['the', 'man', 'tries', 'to', 'win']\n",
      "[0, 0, 1, 1]\n",
      "['he', 'tries', 'so', 'hard', 'with', 'no', 'luck']\n",
      "[0, 1, 0, 1]\n",
      "['out', 'of', 'all', 'his', 'tries', 'this', 'one', 'works']\n",
      "[0, 0, 0, 1]\n",
      "['the', 'tries', 'he', 'did', 'work']\n",
      "[0, 0, 0, 1]\n",
      "['the', 'person', 'tries', 'to', 'score']\n",
      "[0, 0, 0, 1]\n",
      "['it', 'took', 'two', 'tries', 'to', 'get', 'it', 'to', 'work']\n",
      "[0, 0, 0, 1]\n",
      "['the', 'idea', 'did', 'not', 'work']\n",
      "[1, 0, 0, 0]\n",
      "['the', 'game', 'is', 'not', 'working']\n",
      "[1, 0, 0, 0]\n"
     ]
    },
    {
     "data": {
      "text/plain": [
       "SVC(C=1.0, cache_size=200, class_weight=None, coef0=0.0,\n",
       "  decision_function_shape='ovr', degree=3, gamma='auto', kernel='linear',\n",
       "  max_iter=-1, probability=False, random_state=None, shrinking=True,\n",
       "  tol=0.001, verbose=False)"
      ]
     },
     "execution_count": 16,
     "metadata": {},
     "output_type": "execute_result"
    }
   ],
   "source": [
    "# SVM Classifier\n",
    "clf = SVC(kernel='linear')\n",
    "clf.fit(convert_v2(X_train_2), y_train_v2)"
   ]
  },
  {
   "cell_type": "code",
   "execution_count": 17,
   "metadata": {
    "collapsed": true
   },
   "outputs": [],
   "source": [
    "# Test data\n",
    "\n",
    "X_test = ['It took six tries to win the game',\n",
    "         'he tries so hard with no success',\n",
    "         'the tries he did not work',\n",
    "            'he will escape no more',\n",
    "         'it took many tries for the idea to work']\n",
    "y_test = [0,\n",
    "         1,\n",
    "         1,\n",
    "        1,\n",
    "         0]"
   ]
  },
  {
   "cell_type": "code",
   "execution_count": 19,
   "metadata": {},
   "outputs": [
    {
     "name": "stdout",
     "output_type": "stream",
     "text": [
      "['It', 'took', 'six', 'tries', 'to', 'win', 'the', 'game']\n",
      "[0, 0, 1, 1]\n",
      "['he', 'tries', 'so', 'hard', 'with', 'no', 'success']\n",
      "[0, 1, 0, 1]\n",
      "['the', 'tries', 'he', 'did', 'not', 'work']\n",
      "[1, 0, 0, 1]\n",
      "['he', 'will', 'escape', 'no', 'more']\n",
      "[0, 1, 0, 0]\n",
      "['it', 'took', 'many', 'tries', 'for', 'the', 'idea', 'to', 'work']\n",
      "[0, 0, 0, 1]\n"
     ]
    }
   ],
   "source": [
    "# Test accuracy\n",
    "\n",
    "results = clf.score(convert_v2(X_test), (y_test))"
   ]
  },
  {
   "cell_type": "code",
   "execution_count": 22,
   "metadata": {},
   "outputs": [
    {
     "name": "stdout",
     "output_type": "stream",
     "text": [
      "ACCURACY: 80.0 %\n"
     ]
    }
   ],
   "source": [
    "print(\"ACCURACY: {} %\".format(results*100))"
   ]
  },
  {
   "cell_type": "code",
   "execution_count": null,
   "metadata": {
    "collapsed": true
   },
   "outputs": [],
   "source": []
  }
 ],
 "metadata": {
  "kernelspec": {
   "display_name": "Python 3",
   "language": "python",
   "name": "python3"
  },
  "language_info": {
   "codemirror_mode": {
    "name": "ipython",
    "version": 3
   },
   "file_extension": ".py",
   "mimetype": "text/x-python",
   "name": "python",
   "nbconvert_exporter": "python",
   "pygments_lexer": "ipython3",
   "version": "3.6.3"
  }
 },
 "nbformat": 4,
 "nbformat_minor": 2
}
