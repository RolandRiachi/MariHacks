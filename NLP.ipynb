{
 "cells": [
  {
   "cell_type": "code",
   "execution_count": 166,
   "metadata": {},
   "outputs": [
    {
     "name": "stderr",
     "output_type": "stream",
     "text": [
      "C:\\Users\\Liwei\\Anaconda3\\lib\\site-packages\\sklearn\\cross_validation.py:41: DeprecationWarning: This module was deprecated in version 0.18 in favor of the model_selection module into which all the refactored classes and functions are moved. Also note that the interface of the new CV iterators are different from that of this module. This module will be removed in 0.20.\n",
      "  \"This module will be removed in 0.20.\", DeprecationWarning)\n",
      "C:\\Users\\Liwei\\Anaconda3\\lib\\site-packages\\sklearn\\grid_search.py:42: DeprecationWarning: This module was deprecated in version 0.18 in favor of the model_selection module into which all the refactored classes and functions are moved. This module will be removed in 0.20.\n",
      "  DeprecationWarning)\n"
     ]
    }
   ],
   "source": [
    "import sklearn\n",
    "from sklearn.svm import SVC\n",
    "from sklearn import grid_search"
   ]
  },
  {
   "cell_type": "code",
   "execution_count": 138,
   "metadata": {},
   "outputs": [],
   "source": [
    "X_train = ['it took many tries',\n",
    "'the man tries to win',\n",
    "'he tries so hard',\n",
    "'out of all his tries this one works',\n",
    "'the tries he did work',\n",
    "'the person tries to score',\n",
    "'it took two tries to get it to work']"
   ]
  },
  {
   "cell_type": "code",
   "execution_count": 139,
   "metadata": {
    "collapsed": true
   },
   "outputs": [],
   "source": [
    "\"\"\"\n",
    "0 for noun\n",
    "1 for verb\n",
    "\"\"\"\n",
    "\n",
    "y_train = [0,1,1,1,1,1,0]"
   ]
  },
  {
   "cell_type": "code",
   "execution_count": 130,
   "metadata": {},
   "outputs": [],
   "source": [
    "def convert(X_train):\n",
    "    X_train_mod = []\n",
    "    for sentence in X_train:\n",
    "        # split sentence into lists\n",
    "        sent_list = []\n",
    "        sent_list = sentence.split(' ')\n",
    "        try:\n",
    "            index = sent_list.index('tries')\n",
    "        except:\n",
    "            index = 0\n",
    "        print(index)\n",
    "        temp = []\n",
    "        for i in range(2):\n",
    "            print(i)\n",
    "            try:\n",
    "                temp.append(sent_list[index-i-1])\n",
    "            except:\n",
    "                temp.append(None)\n",
    "        X_train_mod.append(temp)\n",
    "        \n",
    "    X_train_fin = []\n",
    "    for sentence in X_train_mod:\n",
    "        print(sentence)\n",
    "        temp = [x for x in range(2)]\n",
    "        counter = 0\n",
    "        for item in sentence:\n",
    "            if item == 'the':\n",
    "                temp[counter] = 1\n",
    "            elif item == 'many':\n",
    "                temp[counter] = 2\n",
    "            elif item == 'took':\n",
    "                temp[counter] = 3\n",
    "            else:\n",
    "                temp[counter] = 0\n",
    "            counter += 1\n",
    "        print(temp)\n",
    "        X_train_fin.append(temp)\n",
    "    \n",
    "    return X_train_fin"
   ]
  },
  {
   "cell_type": "code",
   "execution_count": 131,
   "metadata": {},
   "outputs": [
    {
     "name": "stdout",
     "output_type": "stream",
     "text": [
      "3\n",
      "0\n",
      "1\n",
      "2\n",
      "0\n",
      "1\n",
      "1\n",
      "0\n",
      "1\n",
      "1\n",
      "0\n",
      "1\n",
      "4\n",
      "0\n",
      "1\n",
      "1\n",
      "0\n",
      "1\n",
      "2\n",
      "0\n",
      "1\n",
      "3\n",
      "0\n",
      "1\n",
      "['many', 'took']\n",
      "[2, 3]\n",
      "['man', 'the']\n",
      "[0, 1]\n",
      "['he', 'hard']\n",
      "[0, 0]\n",
      "['he', 'hard']\n",
      "[0, 0]\n",
      "['his', 'all']\n",
      "[0, 0]\n",
      "['the', 'work']\n",
      "[1, 0]\n",
      "['person', 'the']\n",
      "[0, 1]\n",
      "['two', 'took']\n",
      "[0, 3]\n"
     ]
    }
   ],
   "source": [
    "X_train_fin2 = convert(X_train)"
   ]
  },
  {
   "cell_type": "code",
   "execution_count": 132,
   "metadata": {},
   "outputs": [
    {
     "data": {
      "text/plain": [
       "[['many', 'took'],\n",
       " ['man', 'the'],\n",
       " ['he', 'hard'],\n",
       " ['person', 'the'],\n",
       " ['two', 'took']]"
      ]
     },
     "execution_count": 132,
     "metadata": {},
     "output_type": "execute_result"
    }
   ],
   "source": [
    "X_train_mod"
   ]
  },
  {
   "cell_type": "code",
   "execution_count": 133,
   "metadata": {},
   "outputs": [
    {
     "name": "stdout",
     "output_type": "stream",
     "text": [
      "['many', 'took']\n",
      "[2, 3]\n",
      "['man', 'the']\n",
      "[0, 1]\n",
      "['he', 'hard']\n",
      "[4, 0]\n",
      "['person', 'the']\n",
      "[0, 1]\n",
      "['two', 'took']\n",
      "[0, 3]\n"
     ]
    }
   ],
   "source": [
    "X_train_fin = []\n",
    "for sentence in X_train_mod:\n",
    "    print(sentence)\n",
    "    temp = [x for x in range(2)]\n",
    "    counter = 0\n",
    "    for item in sentence:\n",
    "        if item == 'the':\n",
    "            temp[counter] = 1\n",
    "        elif item == 'many':\n",
    "            temp[counter] = 2\n",
    "        elif item == 'took':\n",
    "            temp[counter] = 3\n",
    "        elif item == 'he':\n",
    "            temp[counter] = 4\n",
    "        else:\n",
    "            temp[counter] = 0\n",
    "        counter += 1\n",
    "    print(temp)\n",
    "    X_train_fin.append(temp)"
   ]
  },
  {
   "cell_type": "code",
   "execution_count": null,
   "metadata": {},
   "outputs": [],
   "source": []
  },
  {
   "cell_type": "code",
   "execution_count": 134,
   "metadata": {},
   "outputs": [
    {
     "data": {
      "text/plain": [
       "[[2, 3], [0, 1], [4, 0], [0, 1], [0, 3]]"
      ]
     },
     "execution_count": 134,
     "metadata": {},
     "output_type": "execute_result"
    }
   ],
   "source": [
    "X_train_fin"
   ]
  },
  {
   "cell_type": "code",
   "execution_count": 161,
   "metadata": {
    "scrolled": true
   },
   "outputs": [
    {
     "name": "stdout",
     "output_type": "stream",
     "text": [
      "3\n",
      "0\n",
      "1\n",
      "2\n",
      "0\n",
      "1\n",
      "1\n",
      "0\n",
      "1\n",
      "4\n",
      "0\n",
      "1\n",
      "1\n",
      "0\n",
      "1\n",
      "2\n",
      "0\n",
      "1\n",
      "3\n",
      "0\n",
      "1\n",
      "['many', 'took']\n",
      "[2, 3]\n",
      "['man', 'the']\n",
      "[0, 1]\n",
      "['he', 'hard']\n",
      "[0, 0]\n",
      "['his', 'all']\n",
      "[0, 0]\n",
      "['the', 'work']\n",
      "[1, 0]\n",
      "['person', 'the']\n",
      "[0, 1]\n",
      "['two', 'took']\n",
      "[0, 3]\n"
     ]
    },
    {
     "data": {
      "text/plain": [
       "SVC(C=1.0, cache_size=200, class_weight=None, coef0=0.0,\n",
       "  decision_function_shape='ovr', degree=3, gamma='auto', kernel='linear',\n",
       "  max_iter=-1, probability=False, random_state=None, shrinking=True,\n",
       "  tol=0.001, verbose=False)"
      ]
     },
     "execution_count": 161,
     "metadata": {},
     "output_type": "execute_result"
    }
   ],
   "source": [
    "clf = SVC(kernel='linear')\n",
    "clf.fit(convert(X_train), y_train)"
   ]
  },
  {
   "cell_type": "code",
   "execution_count": 162,
   "metadata": {
    "collapsed": true
   },
   "outputs": [],
   "source": [
    "X_test = ['It took six tries to get it right',\n",
    "         'the cat tries to escape',\n",
    "         'he tries so hard',\n",
    "         'the tries he did work',\n",
    "         'it took many tries for the idea to work']\n",
    "y_test = ['n',\n",
    "         'v',\n",
    "         'v',\n",
    "         'n',\n",
    "         'v']"
   ]
  },
  {
   "cell_type": "code",
   "execution_count": 163,
   "metadata": {},
   "outputs": [
    {
     "data": {
      "text/plain": [
       "5"
      ]
     },
     "execution_count": 163,
     "metadata": {},
     "output_type": "execute_result"
    }
   ],
   "source": [
    "len(y_test)"
   ]
  },
  {
   "cell_type": "code",
   "execution_count": 164,
   "metadata": {},
   "outputs": [],
   "source": [
    "def convert_labels(y_test):\n",
    "    final_y_test = []\n",
    "    for item in y_test:\n",
    "        if item == 'n':\n",
    "            final_y_test.append(0)\n",
    "        if item == 'v':\n",
    "            final_y_test.append(1)\n",
    "    return final_y_test"
   ]
  },
  {
   "cell_type": "code",
   "execution_count": 165,
   "metadata": {
    "scrolled": true
   },
   "outputs": [
    {
     "name": "stdout",
     "output_type": "stream",
     "text": [
      "3\n",
      "0\n",
      "1\n",
      "2\n",
      "0\n",
      "1\n",
      "1\n",
      "0\n",
      "1\n",
      "1\n",
      "0\n",
      "1\n",
      "3\n",
      "0\n",
      "1\n",
      "['six', 'took']\n",
      "[0, 3]\n",
      "['cat', 'the']\n",
      "[0, 1]\n",
      "['he', 'hard']\n",
      "[0, 0]\n",
      "['the', 'work']\n",
      "[1, 0]\n",
      "['many', 'took']\n",
      "[2, 3]\n"
     ]
    },
    {
     "data": {
      "text/plain": [
       "0.59999999999999998"
      ]
     },
     "execution_count": 165,
     "metadata": {},
     "output_type": "execute_result"
    }
   ],
   "source": [
    "clf.score(convert(X_test), convert_labels(y_test))"
   ]
  },
  {
   "cell_type": "code",
   "execution_count": null,
   "metadata": {
    "collapsed": true
   },
   "outputs": [],
   "source": []
  }
 ],
 "metadata": {
  "kernelspec": {
   "display_name": "Python 3",
   "language": "python",
   "name": "python3"
  },
  "language_info": {
   "codemirror_mode": {
    "name": "ipython",
    "version": 3
   },
   "file_extension": ".py",
   "mimetype": "text/x-python",
   "name": "python",
   "nbconvert_exporter": "python",
   "pygments_lexer": "ipython3",
   "version": "3.6.3"
  }
 },
 "nbformat": 4,
 "nbformat_minor": 2
}
